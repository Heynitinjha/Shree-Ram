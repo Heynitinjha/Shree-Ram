{
 "cells": [
  {
   "cell_type": "code",
   "execution_count": 3,
   "id": "0063b230",
   "metadata": {},
   "outputs": [],
   "source": [
    "from turtle import *\n",
    "title('Jai Shree Ram')\n",
    "bgcolor('Black')\n",
    "pensize(5)\n",
    "pencolor(\"Orange\")\n",
    "Ram_naam =[\" जय श्री राम \"]*50\n",
    "angle = 360/50\n",
    "penup()\n",
    "sety(-1)\n",
    "for _ in range(51):\n",
    "    left(angle)\n",
    "    forward(260)\n",
    "    if Ram_naam:\n",
    "        write(Ram_naam.pop(),align=\"right\", font=(\"Arial\", 12, \"bold\"))\n",
    "    backward(260)\n",
    "penup()\n",
    "goto(-40,-20)\n",
    "pendown()\n",
    "write(\"||जय श्री राम ||\",font = (\"Arial\", 50, \"normal\"), align = \"center\")\n",
    "hideturtle()\n",
    "done()"
   ]
  },
  {
   "cell_type": "code",
   "execution_count": null,
   "id": "abe00a03",
   "metadata": {},
   "outputs": [],
   "source": []
  }
 ],
 "metadata": {
  "kernelspec": {
   "display_name": "Python 3 (ipykernel)",
   "language": "python",
   "name": "python3"
  },
  "language_info": {
   "codemirror_mode": {
    "name": "ipython",
    "version": 3
   },
   "file_extension": ".py",
   "mimetype": "text/x-python",
   "name": "python",
   "nbconvert_exporter": "python",
   "pygments_lexer": "ipython3",
   "version": "3.11.5"
  }
 },
 "nbformat": 4,
 "nbformat_minor": 5
}
